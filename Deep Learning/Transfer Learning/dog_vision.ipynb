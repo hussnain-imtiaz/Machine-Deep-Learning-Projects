{
  "nbformat": 4,
  "nbformat_minor": 0,
  "metadata": {
    "colab": {
      "name": "dog-vision.ipynb",
      "provenance": [],
      "collapsed_sections": [],
      "mount_file_id": "109jiubMLgMCxmx-yQbjmpocGBuI05DNz",
      "authorship_tag": "ABX9TyN04LwZoCT4j+MwTRvekb7/",
      "include_colab_link": true
    },
    "kernelspec": {
      "name": "python3",
      "display_name": "Python 3"
    },
    "accelerator": "GPU"
  },
  "cells": [
    {
      "cell_type": "markdown",
      "metadata": {
        "id": "view-in-github",
        "colab_type": "text"
      },
      "source": [
        "<a href=\"https://colab.research.google.com/github/hussnain-imtiaz/Dog-Breed-Identification-Deep-Learning/blob/master/dog_vision.ipynb\" target=\"_parent\"><img src=\"https://colab.research.google.com/assets/colab-badge.svg\" alt=\"Open In Colab\"/></a>"
      ]
    },
    {
      "cell_type": "markdown",
      "metadata": {
        "id": "DB_SjP_UXmjN",
        "colab_type": "text"
      },
      "source": [
        "# Dog Breed Identification using Transfer Learning\n",
        "This is a multiclass (120 classes) Classification project which identify the breed of a dog using its picture.\n"
      ]
    },
    {
      "cell_type": "markdown",
      "metadata": {
        "id": "kZDI573qYCb5",
        "colab_type": "text"
      },
      "source": [
        "## Problem Definintion:\n",
        "Given the picture of a dog, we have to identify the breed of dog.\n",
        "  \n"
      ]
    },
    {
      "cell_type": "markdown",
      "metadata": {
        "id": "foaTxug9Y7Go",
        "colab_type": "text"
      },
      "source": [
        "##  Data:\n",
        "Orignal Data set came from kaggle \"dog breed identification competition\".  \n",
        "More about data can be found here.  "
      ]
    },
    {
      "cell_type": "markdown",
      "metadata": {
        "id": "vj3kmsP0ZGGA",
        "colab_type": "text"
      },
      "source": [
        "## Evaluation:\n",
        "Submissions are evaluated on Multi Class Log Loss between the predicted probability and the observed target."
      ]
    },
    {
      "cell_type": "markdown",
      "metadata": {
        "id": "bIjs2xHWZYuf",
        "colab_type": "text"
      },
      "source": [
        "## Data Features:\n",
        "As its an unstructured data so it may has thousand of features. Well, it's a multiclass problem which contains (120 dog types/classes)."
      ]
    },
    {
      "cell_type": "markdown",
      "metadata": {
        "id": "O5_QUgMaZ1kR",
        "colab_type": "text"
      },
      "source": [
        "## Getting Data Ready:"
      ]
    },
    {
      "cell_type": "code",
      "metadata": {
        "id": "agAUgFX2Z5Z6",
        "colab_type": "code",
        "colab": {}
      },
      "source": [
        "#deep learning libraries\n",
        "import tensorflow as tf\n",
        "import tensorflow_hub as hub\n",
        "\n",
        "#regular EDA and plotting libraries\n",
        "import numpy as np\n",
        "import pandas as pd\n",
        "import matplotlib.pyplot as plt\n"
      ],
      "execution_count": 0,
      "outputs": []
    },
    {
      "cell_type": "code",
      "metadata": {
        "id": "ItBTg0LwaRqK",
        "colab_type": "code",
        "outputId": "5b7153bd-de8c-4d15-9959-7d5c1fd7f38d",
        "colab": {
          "base_uri": "https://localhost:8080/",
          "height": 34
        }
      },
      "source": [
        "## checking the GPU\n",
        "def check_GPU():\n",
        "  if tf.config.list_physical_devices(\"GPU\"):\n",
        "    print(\"GPU is enabled.\")\n",
        "  else:\n",
        "    print(\"GPU is disabled.\")\n",
        "check_GPU()"
      ],
      "execution_count": 212,
      "outputs": [
        {
          "output_type": "stream",
          "text": [
            "GPU is enabled.\n"
          ],
          "name": "stdout"
        }
      ]
    },
    {
      "cell_type": "markdown",
      "metadata": {
        "id": "Ok2BGpb_asHR",
        "colab_type": "text"
      },
      "source": [
        "Lets import our data and make preprocessing pipeline."
      ]
    },
    {
      "cell_type": "code",
      "metadata": {
        "id": "n62RVqfpalZg",
        "colab_type": "code",
        "colab": {}
      },
      "source": [
        "data=pd.read_csv(\"drive/My Drive/dog vision/labels.csv\")"
      ],
      "execution_count": 0,
      "outputs": []
    },
    {
      "cell_type": "code",
      "metadata": {
        "id": "Juuc-_gybt2u",
        "colab_type": "code",
        "outputId": "e62684ee-dd16-4f80-f2a9-92ea59a749f5",
        "colab": {
          "base_uri": "https://localhost:8080/",
          "height": 206
        }
      },
      "source": [
        "data.head()"
      ],
      "execution_count": 214,
      "outputs": [
        {
          "output_type": "execute_result",
          "data": {
            "text/html": [
              "<div>\n",
              "<style scoped>\n",
              "    .dataframe tbody tr th:only-of-type {\n",
              "        vertical-align: middle;\n",
              "    }\n",
              "\n",
              "    .dataframe tbody tr th {\n",
              "        vertical-align: top;\n",
              "    }\n",
              "\n",
              "    .dataframe thead th {\n",
              "        text-align: right;\n",
              "    }\n",
              "</style>\n",
              "<table border=\"1\" class=\"dataframe\">\n",
              "  <thead>\n",
              "    <tr style=\"text-align: right;\">\n",
              "      <th></th>\n",
              "      <th>id</th>\n",
              "      <th>breed</th>\n",
              "    </tr>\n",
              "  </thead>\n",
              "  <tbody>\n",
              "    <tr>\n",
              "      <th>0</th>\n",
              "      <td>000bec180eb18c7604dcecc8fe0dba07</td>\n",
              "      <td>boston_bull</td>\n",
              "    </tr>\n",
              "    <tr>\n",
              "      <th>1</th>\n",
              "      <td>001513dfcb2ffafc82cccf4d8bbaba97</td>\n",
              "      <td>dingo</td>\n",
              "    </tr>\n",
              "    <tr>\n",
              "      <th>2</th>\n",
              "      <td>001cdf01b096e06d78e9e5112d419397</td>\n",
              "      <td>pekinese</td>\n",
              "    </tr>\n",
              "    <tr>\n",
              "      <th>3</th>\n",
              "      <td>00214f311d5d2247d5dfe4fe24b2303d</td>\n",
              "      <td>bluetick</td>\n",
              "    </tr>\n",
              "    <tr>\n",
              "      <th>4</th>\n",
              "      <td>0021f9ceb3235effd7fcde7f7538ed62</td>\n",
              "      <td>golden_retriever</td>\n",
              "    </tr>\n",
              "  </tbody>\n",
              "</table>\n",
              "</div>"
            ],
            "text/plain": [
              "                                 id             breed\n",
              "0  000bec180eb18c7604dcecc8fe0dba07       boston_bull\n",
              "1  001513dfcb2ffafc82cccf4d8bbaba97             dingo\n",
              "2  001cdf01b096e06d78e9e5112d419397          pekinese\n",
              "3  00214f311d5d2247d5dfe4fe24b2303d          bluetick\n",
              "4  0021f9ceb3235effd7fcde7f7538ed62  golden_retriever"
            ]
          },
          "metadata": {
            "tags": []
          },
          "execution_count": 214
        }
      ]
    },
    {
      "cell_type": "markdown",
      "metadata": {
        "id": "gqGwCCn3b0_I",
        "colab_type": "text"
      },
      "source": [
        "Now we have to take the `breed` in labels array and use `id` for making file paths to read images."
      ]
    },
    {
      "cell_type": "code",
      "metadata": {
        "id": "LbuY2WzubyoA",
        "colab_type": "code",
        "colab": {}
      },
      "source": [
        "labels=data[\"breed\"].to_numpy()"
      ],
      "execution_count": 0,
      "outputs": []
    },
    {
      "cell_type": "code",
      "metadata": {
        "id": "SNDcwe38cC3l",
        "colab_type": "code",
        "outputId": "bb901e4c-4880-4eb9-b4c9-f2c82f9184c2",
        "colab": {
          "base_uri": "https://localhost:8080/",
          "height": 52
        }
      },
      "source": [
        "labels"
      ],
      "execution_count": 216,
      "outputs": [
        {
          "output_type": "execute_result",
          "data": {
            "text/plain": [
              "array(['boston_bull', 'dingo', 'pekinese', ..., 'airedale',\n",
              "       'miniature_pinscher', 'chesapeake_bay_retriever'], dtype=object)"
            ]
          },
          "metadata": {
            "tags": []
          },
          "execution_count": 216
        }
      ]
    },
    {
      "cell_type": "markdown",
      "metadata": {
        "id": "uWevO4LxcGaG",
        "colab_type": "text"
      },
      "source": [
        "As our model only takes numerical data so we have to convert breed into that."
      ]
    },
    {
      "cell_type": "code",
      "metadata": {
        "id": "M23LC9QCcEUI",
        "colab_type": "code",
        "colab": {}
      },
      "source": [
        "all_breeds=np.unique(labels)"
      ],
      "execution_count": 0,
      "outputs": []
    },
    {
      "cell_type": "code",
      "metadata": {
        "id": "A_38NWWNcSvF",
        "colab_type": "code",
        "outputId": "ccbda436-d77f-4405-db4b-c59991ec8d8c",
        "colab": {
          "base_uri": "https://localhost:8080/",
          "height": 34
        }
      },
      "source": [
        "len(all_breeds)"
      ],
      "execution_count": 218,
      "outputs": [
        {
          "output_type": "execute_result",
          "data": {
            "text/plain": [
              "120"
            ]
          },
          "metadata": {
            "tags": []
          },
          "execution_count": 218
        }
      ]
    },
    {
      "cell_type": "code",
      "metadata": {
        "id": "bnxaj-x8cUWp",
        "colab_type": "code",
        "colab": {}
      },
      "source": [
        "labels=[label==all_breeds for label in labels]"
      ],
      "execution_count": 0,
      "outputs": []
    },
    {
      "cell_type": "code",
      "metadata": {
        "id": "gUGcVfsLctxW",
        "colab_type": "code",
        "outputId": "1a3e5221-3857-437b-edc7-0315abf9d073",
        "colab": {
          "base_uri": "https://localhost:8080/",
          "height": 260
        }
      },
      "source": [
        "labels[0]"
      ],
      "execution_count": 220,
      "outputs": [
        {
          "output_type": "execute_result",
          "data": {
            "text/plain": [
              "array([False, False, False, False, False, False, False, False, False,\n",
              "       False, False, False, False, False, False, False, False, False,\n",
              "       False,  True, False, False, False, False, False, False, False,\n",
              "       False, False, False, False, False, False, False, False, False,\n",
              "       False, False, False, False, False, False, False, False, False,\n",
              "       False, False, False, False, False, False, False, False, False,\n",
              "       False, False, False, False, False, False, False, False, False,\n",
              "       False, False, False, False, False, False, False, False, False,\n",
              "       False, False, False, False, False, False, False, False, False,\n",
              "       False, False, False, False, False, False, False, False, False,\n",
              "       False, False, False, False, False, False, False, False, False,\n",
              "       False, False, False, False, False, False, False, False, False,\n",
              "       False, False, False, False, False, False, False, False, False,\n",
              "       False, False, False])"
            ]
          },
          "metadata": {
            "tags": []
          },
          "execution_count": 220
        }
      ]
    },
    {
      "cell_type": "markdown",
      "metadata": {
        "id": "oS6wSCGLdJ-C",
        "colab_type": "text"
      },
      "source": [
        "Its in numerical form now...   \n",
        "Let's procedd to the images preprocessing.  \n",
        "We have to read all of them and then preprocess them."
      ]
    },
    {
      "cell_type": "code",
      "metadata": {
        "id": "v_1yY6CscxM_",
        "colab_type": "code",
        "colab": {}
      },
      "source": [
        "image_path=[\"drive/My Drive/dog vision/train/\"+ path for path in data[\"id\"]+\".jpg\"]"
      ],
      "execution_count": 0,
      "outputs": []
    },
    {
      "cell_type": "code",
      "metadata": {
        "id": "Pcxz2S3UdFML",
        "colab_type": "code",
        "outputId": "6b33ad5d-3b10-4fbe-920d-d649285b3b05",
        "colab": {
          "base_uri": "https://localhost:8080/",
          "height": 34
        }
      },
      "source": [
        "image_path[1]"
      ],
      "execution_count": 222,
      "outputs": [
        {
          "output_type": "execute_result",
          "data": {
            "text/plain": [
              "'drive/My Drive/dog vision/train/001513dfcb2ffafc82cccf4d8bbaba97.jpg'"
            ]
          },
          "metadata": {
            "tags": []
          },
          "execution_count": 222
        }
      ]
    },
    {
      "cell_type": "code",
      "metadata": {
        "id": "7wV7Jocklw-q",
        "colab_type": "code",
        "colab": {}
      },
      "source": [
        "from IPython.display import Image\n",
        "Image(image_path[1])"
      ],
      "execution_count": 0,
      "outputs": []
    },
    {
      "cell_type": "markdown",
      "metadata": {
        "id": "O4TYBLKyfPKm",
        "colab_type": "text"
      },
      "source": [
        "We have gathered all  the images in image_path and we can iterate over them and read them for preprocessing. Now its the time to preprocess our data but before that we have to split our data in train_validation set.   \n",
        "Let's do it now."
      ]
    },
    {
      "cell_type": "code",
      "metadata": {
        "id": "z6uWpz9HeUU1",
        "colab_type": "code",
        "colab": {}
      },
      "source": [
        "X=image_path\n",
        "y=labels"
      ],
      "execution_count": 0,
      "outputs": []
    },
    {
      "cell_type": "code",
      "metadata": {
        "id": "5rAL1btWf_SW",
        "colab_type": "code",
        "colab": {}
      },
      "source": [
        "DATASIZE=1500 #@param{type:\"slider\",min:1000,max:2000}"
      ],
      "execution_count": 0,
      "outputs": []
    },
    {
      "cell_type": "code",
      "metadata": {
        "id": "9leXoF3ye6M2",
        "colab_type": "code",
        "colab": {}
      },
      "source": [
        "from sklearn.model_selection import train_test_split\n",
        "X_train,X_val,y_train,y_val=train_test_split(X[:DATASIZE],\n",
        "                                             y[:DATASIZE],\n",
        "                                             test_size=0.2,\n",
        "                                             random_state=42)"
      ],
      "execution_count": 0,
      "outputs": []
    },
    {
      "cell_type": "code",
      "metadata": {
        "id": "Sse3UwcMfAfb",
        "colab_type": "code",
        "outputId": "7db42d55-3010-4f55-e36c-f70a9bacaa4e",
        "colab": {
          "base_uri": "https://localhost:8080/",
          "height": 34
        }
      },
      "source": [
        "len(X_train),len(X_val)"
      ],
      "execution_count": 226,
      "outputs": [
        {
          "output_type": "execute_result",
          "data": {
            "text/plain": [
              "(1200, 300)"
            ]
          },
          "metadata": {
            "tags": []
          },
          "execution_count": 226
        }
      ]
    },
    {
      "cell_type": "markdown",
      "metadata": {
        "id": "82W3ZIEHgj_d",
        "colab_type": "text"
      },
      "source": [
        "Now we have got our data ready for preprocessing. Now its the time to make preprocessing pipeline.  \n",
        "This pipleline include following functions:  \n",
        "* Turn images into tensors\n",
        "* Turn Lables into tensors\n",
        "* Turn image,labels into tuple as :`(image,labels)` which is required by tensorflow.\n",
        "* Turn the above processed data into batches."
      ]
    },
    {
      "cell_type": "code",
      "metadata": {
        "id": "PkDsMe2XgTEB",
        "colab_type": "code",
        "colab": {}
      },
      "source": [
        "#turning image into tensors\n",
        "def image_to_tensor(image):\n",
        "  \"\"\"\n",
        "  Take an image and convert into tensor form with a size of 224 by 224.\n",
        "  \"\"\" \n",
        "  #read image \n",
        "  image=tf.io.read_file(image)\n",
        "  #convert into tensors\n",
        "  image=tf.image.decode_jpeg(image)\n",
        "  #converting image channels between 0 and 255 which is regularization\n",
        "  image=tf.image.convert_image_dtype(image,tf.float32)\n",
        "  #resizing image\n",
        "  image=tf.image.resize(image,size=(224,224))\n",
        "  return image"
      ],
      "execution_count": 0,
      "outputs": []
    },
    {
      "cell_type": "code",
      "metadata": {
        "id": "THjkk7rShtO9",
        "colab_type": "code",
        "outputId": "93639dd2-6e3a-4810-d0ee-178ecf63c2fc",
        "colab": {
          "base_uri": "https://localhost:8080/",
          "height": 885
        }
      },
      "source": [
        "image_to_tensor(image_path[0])"
      ],
      "execution_count": 228,
      "outputs": [
        {
          "output_type": "execute_result",
          "data": {
            "text/plain": [
              "<tf.Tensor: shape=(224, 224, 3), dtype=float32, numpy=\n",
              "array([[[0.5705322 , 0.33588538, 0.15008473],\n",
              "        [0.66901225, 0.4601166 , 0.26022965],\n",
              "        [0.61062384, 0.43763596, 0.21601713],\n",
              "        ...,\n",
              "        [0.8182312 , 0.7297958 , 0.26963907],\n",
              "        [0.72454786, 0.6059109 , 0.2653059 ],\n",
              "        [0.7494603 , 0.6252918 , 0.32456532]],\n",
              "\n",
              "       [[0.6761415 , 0.4733761 , 0.30642927],\n",
              "        [0.5672121 , 0.38192675, 0.20349538],\n",
              "        [0.5883547 , 0.4322571 , 0.2403155 ],\n",
              "        ...,\n",
              "        [0.9326942 , 0.8260503 , 0.41093278],\n",
              "        [0.86072475, 0.74250627, 0.3694122 ],\n",
              "        [0.76781666, 0.6461604 , 0.29291284]],\n",
              "\n",
              "       [[0.46350825, 0.29595745, 0.1536156 ],\n",
              "        [0.42554107, 0.27039403, 0.12009468],\n",
              "        [0.7887875 , 0.6547362 , 0.49015   ],\n",
              "        ...,\n",
              "        [0.89372385, 0.7696401 , 0.41811958],\n",
              "        [0.88609535, 0.7585918 , 0.36495727],\n",
              "        [0.8243601 , 0.69494826, 0.2930575 ]],\n",
              "\n",
              "       ...,\n",
              "\n",
              "       [[0.7344025 , 0.4716574 , 0.2559711 ],\n",
              "        [0.7137255 , 0.45882356, 0.24705884],\n",
              "        [0.73858845, 0.48431677, 0.27286717],\n",
              "        ...,\n",
              "        [0.70885915, 0.5011093 , 0.3242799 ],\n",
              "        [0.8884395 , 0.6805963 , 0.4820492 ],\n",
              "        [0.8582441 , 0.65040094, 0.4518538 ]],\n",
              "\n",
              "       [[0.73006743, 0.46732238, 0.2516361 ],\n",
              "        [0.7170148 , 0.46211284, 0.25034812],\n",
              "        [0.7450579 , 0.4907862 , 0.2793366 ],\n",
              "        ...,\n",
              "        [0.61970466, 0.38697496, 0.2337188 ],\n",
              "        [0.8422896 , 0.6245787 , 0.4227691 ],\n",
              "        [0.8231962 , 0.615353  , 0.40367568]],\n",
              "\n",
              "       [[0.71346223, 0.45071715, 0.23503087],\n",
              "        [0.7221888 , 0.46728685, 0.25552213],\n",
              "        [0.7443651 , 0.4900934 , 0.27864382],\n",
              "        ...,\n",
              "        [0.51567453, 0.25106463, 0.12167794],\n",
              "        [0.73301876, 0.5191183 , 0.3041832 ],\n",
              "        [0.75639   , 0.5524684 , 0.32383528]]], dtype=float32)>"
            ]
          },
          "metadata": {
            "tags": []
          },
          "execution_count": 228
        }
      ]
    },
    {
      "cell_type": "markdown",
      "metadata": {
        "id": "S2CF54g1i4W0",
        "colab_type": "text"
      },
      "source": [
        "Now proceed to the next steps."
      ]
    },
    {
      "cell_type": "code",
      "metadata": {
        "id": "vx-ItkHDhzAv",
        "colab_type": "code",
        "colab": {}
      },
      "source": [
        "def data_preprocess(image,label):\n",
        "  \"\"\"\n",
        "  Take image and label in tenorform and Returns a tuple of features and labels for TF\n",
        "  \"\"\"\n",
        "  image=image_to_tensor(image)\n",
        "  return image,label"
      ],
      "execution_count": 0,
      "outputs": []
    },
    {
      "cell_type": "code",
      "metadata": {
        "id": "jZ-GbBgyiCQG",
        "colab_type": "code",
        "outputId": "a553ff77-6c67-419f-e676-17052bdf8293",
        "colab": {
          "base_uri": "https://localhost:8080/",
          "height": 1000
        }
      },
      "source": [
        "data_preprocess(X_train[0],tf.constant(y_train[0]))"
      ],
      "execution_count": 230,
      "outputs": [
        {
          "output_type": "execute_result",
          "data": {
            "text/plain": [
              "(<tf.Tensor: shape=(224, 224, 3), dtype=float32, numpy=\n",
              " array([[[0.21176472, 0.16862746, 0.19215688],\n",
              "         [0.21803223, 0.18116246, 0.20155814],\n",
              "         [0.1804797 , 0.14257704, 0.17001052],\n",
              "         ...,\n",
              "         [0.5516109 , 0.5123952 , 0.37514028],\n",
              "         [0.5411765 , 0.5019608 , 0.36391813],\n",
              "         [0.5411765 , 0.5019608 , 0.36078432]],\n",
              " \n",
              "        [[0.26913518, 0.22995448, 0.2515056 ],\n",
              "         [0.28172615, 0.24565123, 0.26564947],\n",
              "         [0.2970841 , 0.26312917, 0.28924674],\n",
              "         ...,\n",
              "         [0.5634806 , 0.52426493, 0.38701004],\n",
              "         [0.5530462 , 0.51383054, 0.37578788],\n",
              "         [0.5530462 , 0.51383054, 0.37265408]],\n",
              " \n",
              "        [[0.305007  , 0.2717612 , 0.28932074],\n",
              "         [0.32490075, 0.29220057, 0.3108513 ],\n",
              "         [0.41884866, 0.3905944 , 0.41473654],\n",
              "         ...,\n",
              "         [0.5767344 , 0.53751874, 0.40026388],\n",
              "         [0.5667542 , 0.52753854, 0.38949588],\n",
              "         [0.5667542 , 0.52753854, 0.38636208]],\n",
              " \n",
              "        ...,\n",
              " \n",
              "        [[0.39010864, 0.35089293, 0.24501057],\n",
              "         [0.4136817 , 0.374466  , 0.26858363],\n",
              "         [0.4335589 , 0.39434323, 0.28846085],\n",
              "         ...,\n",
              "         [0.4594651 , 0.41632783, 0.29868075],\n",
              "         [0.4671745 , 0.42403725, 0.3048146 ],\n",
              "         [0.4671745 , 0.42403725, 0.29854703]],\n",
              " \n",
              "        [[0.40187347, 0.36265776, 0.2567754 ],\n",
              "         [0.41759807, 0.37838238, 0.2725    ],\n",
              "         [0.43200862, 0.39279294, 0.28691056],\n",
              "         ...,\n",
              "         [0.45498317, 0.41184592, 0.29419884],\n",
              "         [0.47058827, 0.427451  , 0.30822837],\n",
              "         [0.47058827, 0.427451  , 0.3019608 ]],\n",
              " \n",
              "        [[0.41176474, 0.37254903, 0.26666668],\n",
              "         [0.421166  , 0.38195032, 0.27606794],\n",
              "         [0.4313551 , 0.3921394 , 0.28625703],\n",
              "         ...,\n",
              "         [0.44971952, 0.40658227, 0.28893518],\n",
              "         [0.47058827, 0.427451  , 0.30822837],\n",
              "         [0.47058827, 0.427451  , 0.3019608 ]]], dtype=float32)>,\n",
              " <tf.Tensor: shape=(120,), dtype=bool, numpy=\n",
              " array([False, False, False, False, False, False, False, False, False,\n",
              "        False, False, False, False, False, False, False, False, False,\n",
              "        False, False, False, False, False, False, False, False, False,\n",
              "        False, False, False, False, False, False, False, False, False,\n",
              "        False, False, False,  True, False, False, False, False, False,\n",
              "        False, False, False, False, False, False, False, False, False,\n",
              "        False, False, False, False, False, False, False, False, False,\n",
              "        False, False, False, False, False, False, False, False, False,\n",
              "        False, False, False, False, False, False, False, False, False,\n",
              "        False, False, False, False, False, False, False, False, False,\n",
              "        False, False, False, False, False, False, False, False, False,\n",
              "        False, False, False, False, False, False, False, False, False,\n",
              "        False, False, False, False, False, False, False, False, False,\n",
              "        False, False, False])>)"
            ]
          },
          "metadata": {
            "tags": []
          },
          "execution_count": 230
        }
      ]
    },
    {
      "cell_type": "markdown",
      "metadata": {
        "id": "CuCbfOX8jlWC",
        "colab_type": "text"
      },
      "source": [
        "Now final stage is to turn data into batches so that we can proceed to modeling."
      ]
    },
    {
      "cell_type": "markdown",
      "metadata": {
        "id": "7TBU9DWRkV76",
        "colab_type": "text"
      },
      "source": [
        "Good size for data batches is 32, \n",
        "we can modify it but there are some data batch rules to follow."
      ]
    },
    {
      "cell_type": "code",
      "metadata": {
        "id": "HDT1aeI1kk_L",
        "colab_type": "code",
        "colab": {}
      },
      "source": [
        "BATCH_SIZE=32 #@param{type:\"slider\",min:32,max:50,step:2}"
      ],
      "execution_count": 0,
      "outputs": []
    },
    {
      "cell_type": "code",
      "metadata": {
        "id": "ULo9ccKujhB6",
        "colab_type": "code",
        "colab": {}
      },
      "source": [
        "def get_data_batches(X,y=None,BATCH_SIZE=BATCH_SIZE,val_data=False,test_data=False):\n",
        "  \"\"\"\n",
        "  Take X or X and y along with data specification like training or validation data and return data batches.\n",
        "  \"\"\"\n",
        "  if test_data:\n",
        "    print(\"Making Test data batches.....\")\n",
        "    #making data set\n",
        "    data=tf.data.Dataset.from_tensor_slices(tf.constant(X))\n",
        "    #turning data into batches\n",
        "    data_batch=data.map(image_to_tensor).batch(BATCH_SIZE)\n",
        "    print(\"Done.\")\n",
        "  elif val_data:\n",
        "    print(\"Making validation data batches.....\")\n",
        "    #making data set\n",
        "    data=tf.data.Dataset.from_tensor_slices((tf.constant(X),\n",
        "                                            tf.constant(y)))\n",
        "    #data into batches \n",
        "    data_batch=data.map(data_preprocess).batch(BATCH_SIZE)\n",
        "    print(\"Done.\")\n",
        "  else:\n",
        "    print(\"Making training data batches.....\")\n",
        "    data=tf.data.Dataset.from_tensor_slices((tf.constant(X),\n",
        "                                            tf.constant(y)))\n",
        "    #shuffling data as its traing set\n",
        "    data=data.shuffle(buffer_size=len(X))\n",
        "    data_batch=data.map(data_preprocess).batch(BATCH_SIZE)\n",
        "    print(\"Done.\")\n",
        "  return data_batch\n"
      ],
      "execution_count": 0,
      "outputs": []
    },
    {
      "cell_type": "code",
      "metadata": {
        "id": "FnQ4JA7tjkls",
        "colab_type": "code",
        "outputId": "43633deb-ae2c-4c1b-b2b4-b63195fdde7b",
        "colab": {
          "base_uri": "https://localhost:8080/",
          "height": 86
        }
      },
      "source": [
        "train_data=get_data_batches(X_train,y_train)\n",
        "val_data=get_data_batches(X_val,y=y_val,val_data=True)"
      ],
      "execution_count": 233,
      "outputs": [
        {
          "output_type": "stream",
          "text": [
            "Making training data batches.....\n",
            "Done.\n",
            "Making validation data batches.....\n",
            "Done.\n"
          ],
          "name": "stdout"
        }
      ]
    },
    {
      "cell_type": "code",
      "metadata": {
        "id": "1MIvW3Mhjkjt",
        "colab_type": "code",
        "outputId": "01cc4a29-d199-4404-aabb-614aaffd17e4",
        "colab": {
          "base_uri": "https://localhost:8080/",
          "height": 52
        }
      },
      "source": [
        "train_data.element_spec"
      ],
      "execution_count": 56,
      "outputs": [
        {
          "output_type": "execute_result",
          "data": {
            "text/plain": [
              "(TensorSpec(shape=(None, 224, 224, None), dtype=tf.float32, name=None),\n",
              " TensorSpec(shape=(None, 120), dtype=tf.bool, name=None))"
            ]
          },
          "metadata": {
            "tags": []
          },
          "execution_count": 56
        }
      ]
    },
    {
      "cell_type": "code",
      "metadata": {
        "id": "FaGeOE69jke3",
        "colab_type": "code",
        "colab": {}
      },
      "source": [
        ""
      ],
      "execution_count": 0,
      "outputs": []
    },
    {
      "cell_type": "markdown",
      "metadata": {
        "id": "U834r8ZarRO-",
        "colab_type": "text"
      },
      "source": [
        "Yes!! we have done with preprocessing, Now its the time to do modelling."
      ]
    },
    {
      "cell_type": "code",
      "metadata": {
        "id": "eyd56Qygjkbo",
        "colab_type": "code",
        "colab": {}
      },
      "source": [
        ""
      ],
      "execution_count": 0,
      "outputs": []
    },
    {
      "cell_type": "markdown",
      "metadata": {
        "id": "DAiA-SiJrZrC",
        "colab_type": "text"
      },
      "source": [
        "## Modelling:\n",
        "We need three things to apply a transfer learning model.\n",
        "* input shape of data (which is image)\n",
        "* Outpult shape of model which are our labels, and\n",
        "* Model URL\n",
        "We will use MobileNet2 model and will fine tune it."
      ]
    },
    {
      "cell_type": "code",
      "metadata": {
        "id": "WXxI5uo2jkZu",
        "colab_type": "code",
        "colab": {}
      },
      "source": [
        "input_shape=[None, 224, 224, None]\n",
        "output_shape=len(all_breeds)\n",
        "model_URL=\"https://tfhub.dev/google/imagenet/mobilenet_v2_130_224/classification/4\""
      ],
      "execution_count": 0,
      "outputs": []
    },
    {
      "cell_type": "markdown",
      "metadata": {
        "id": "ZH0fhN_asWrO",
        "colab_type": "text"
      },
      "source": [
        "Let's make a moedeling pipleline.  \n",
        "For that we need to make model callbacks. So that we can save, track and visualize our model performance.  \n",
        "We will create 2 callbacks.  \n",
        "1. Tensorboard Callback to track and save progress, and\n",
        "2. EarlyyStoping call back to stop when our model stop improving."
      ]
    },
    {
      "cell_type": "code",
      "metadata": {
        "id": "K7K2vRCywknr",
        "colab_type": "code",
        "colab": {
          "base_uri": "https://localhost:8080/",
          "height": 52
        },
        "outputId": "e706f330-2096-4ea6-9238-897ddd887120"
      },
      "source": [
        "%load_ext tensorboard"
      ],
      "execution_count": 235,
      "outputs": [
        {
          "output_type": "stream",
          "text": [
            "The tensorboard extension is already loaded. To reload it, use:\n",
            "  %reload_ext tensorboard\n"
          ],
          "name": "stdout"
        }
      ]
    },
    {
      "cell_type": "code",
      "metadata": {
        "id": "ElCZmMh0u56A",
        "colab_type": "code",
        "colab": {}
      },
      "source": [
        "import datetime,os\n",
        "def tensorboard_callback():\n",
        "  logdir=os.path.join(\"drive/My Drive/dog vision/logdir\",\n",
        "                    datetime.datetime.now().strftime(\"%Y%m%d-%H%M%S\"))\n",
        "  return tf.keras.callbacks.TensorBoard(log_dir=logdir)"
      ],
      "execution_count": 0,
      "outputs": []
    },
    {
      "cell_type": "code",
      "metadata": {
        "id": "FLyjJ6xYwoCT",
        "colab_type": "code",
        "colab": {}
      },
      "source": [
        "EarlyStopping_cb=tf.keras.callbacks.EarlyStopping(monitor=\"accuracy\",\n",
        "                                                   patience=3)"
      ],
      "execution_count": 0,
      "outputs": []
    },
    {
      "cell_type": "code",
      "metadata": {
        "id": "wpGR4qhAycLt",
        "colab_type": "code",
        "colab": {}
      },
      "source": [
        "NUM_EPOCHS=100 #@param{type:\"slider\",min:10,max:100,step:10}"
      ],
      "execution_count": 0,
      "outputs": []
    },
    {
      "cell_type": "code",
      "metadata": {
        "id": "s4cTgy9BjkYR",
        "colab_type": "code",
        "colab": {}
      },
      "source": [
        "def create_model(input=input_shape,output=output_shape,URL=model_URL):\n",
        "  \"\"\"\n",
        "  Create a DEEP LEARNING MODEL from keras.\n",
        "  \"\"\"\n",
        "  #setup keras\n",
        "  model=tf.keras.Sequential([\n",
        "                             hub.KerasLayer(URL),\n",
        "                             tf.keras.layers.Dense(units=output,\n",
        "                                                   activation=\"softmax\")\n",
        "                            ])\n",
        "  #compiling model\n",
        "  model.compile(\n",
        "                loss=tf.keras.losses.BinaryCrossentropy(),\n",
        "                optimizer=tf.keras.optimizers.Adam(),\n",
        "                metrics=[\"accuracy\"]\n",
        "               )\n",
        "  #building model\n",
        "  model.build(input)\n",
        "  return model"
      ],
      "execution_count": 0,
      "outputs": []
    },
    {
      "cell_type": "code",
      "metadata": {
        "id": "HtelS97FwIX1",
        "colab_type": "code",
        "colab": {
          "base_uri": "https://localhost:8080/",
          "height": 225
        },
        "outputId": "a6105e19-98e4-42af-e335-526a41b25a8c"
      },
      "source": [
        "model=create_model()\n",
        "model.summary()"
      ],
      "execution_count": 240,
      "outputs": [
        {
          "output_type": "stream",
          "text": [
            "Model: \"sequential_4\"\n",
            "_________________________________________________________________\n",
            "Layer (type)                 Output Shape              Param #   \n",
            "=================================================================\n",
            "keras_layer_4 (KerasLayer)   multiple                  5432713   \n",
            "_________________________________________________________________\n",
            "dense_4 (Dense)              multiple                  120240    \n",
            "=================================================================\n",
            "Total params: 5,552,953\n",
            "Trainable params: 120,240\n",
            "Non-trainable params: 5,432,713\n",
            "_________________________________________________________________\n"
          ],
          "name": "stdout"
        }
      ]
    },
    {
      "cell_type": "code",
      "metadata": {
        "id": "mLJLLdZWmE5W",
        "colab_type": "code",
        "colab": {}
      },
      "source": [
        "def train_model(NUM_EPOCHS=NUM_EPOCHS):\n",
        "  #creating model \n",
        "  model=create_model()\n",
        "  Tensorboard=tensorboard_callback()\n",
        "  #fittingmodel\n",
        "  model.fit(x=train_data,\n",
        "            validation_data=val_data,\n",
        "            epochs=NUM_EPOCHS,\n",
        "            callbacks=[Tensorboard,EarlyStopping_cb],\n",
        "            validation_freq=1\n",
        "             #check validation after each epoch\n",
        "            )\n",
        "  return model"
      ],
      "execution_count": 0,
      "outputs": []
    },
    {
      "cell_type": "markdown",
      "metadata": {
        "id": "moPBb_4e0iKv",
        "colab_type": "text"
      },
      "source": [
        "Here we have to check GPU availability."
      ]
    },
    {
      "cell_type": "code",
      "metadata": {
        "id": "FACNe4HkjkTV",
        "colab_type": "code",
        "outputId": "f428bc05-b6cc-4859-dd78-be22db57bb45",
        "colab": {
          "base_uri": "https://localhost:8080/",
          "height": 34
        }
      },
      "source": [
        "check_GPU()"
      ],
      "execution_count": 246,
      "outputs": [
        {
          "output_type": "stream",
          "text": [
            "GPU is enabled.\n"
          ],
          "name": "stdout"
        }
      ]
    },
    {
      "cell_type": "code",
      "metadata": {
        "id": "UWbTYUvZd83D",
        "colab_type": "code",
        "colab": {
          "base_uri": "https://localhost:8080/",
          "height": 419
        },
        "outputId": "80adc988-cb75-46e2-8b98-c99cc3ea685d"
      },
      "source": [
        "model1=train_model()"
      ],
      "execution_count": 247,
      "outputs": [
        {
          "output_type": "stream",
          "text": [
            "Epoch 1/100\n",
            " 2/38 [>.............................] - ETA: 22s - loss: 0.0576 - accuracy: 0.0000e+00WARNING:tensorflow:Method (on_train_batch_end) is slow compared to the batch update (0.565574). Check your callbacks.\n"
          ],
          "name": "stdout"
        },
        {
          "output_type": "stream",
          "text": [
            "WARNING:tensorflow:Method (on_train_batch_end) is slow compared to the batch update (0.565574). Check your callbacks.\n"
          ],
          "name": "stderr"
        },
        {
          "output_type": "stream",
          "text": [
            "38/38 [==============================] - 10s 258ms/step - loss: 0.0416 - accuracy: 0.1717 - val_loss: 0.0278 - val_accuracy: 0.4433\n",
            "Epoch 2/100\n",
            "38/38 [==============================] - 8s 219ms/step - loss: 0.0139 - accuracy: 0.7708 - val_loss: 0.0170 - val_accuracy: 0.6633\n",
            "Epoch 3/100\n",
            "38/38 [==============================] - 8s 218ms/step - loss: 0.0052 - accuracy: 0.9517 - val_loss: 0.0142 - val_accuracy: 0.7267\n",
            "Epoch 4/100\n",
            "38/38 [==============================] - 8s 217ms/step - loss: 0.0025 - accuracy: 0.9883 - val_loss: 0.0132 - val_accuracy: 0.7400\n",
            "Epoch 5/100\n",
            "38/38 [==============================] - 8s 215ms/step - loss: 0.0014 - accuracy: 0.9983 - val_loss: 0.0127 - val_accuracy: 0.7400\n",
            "Epoch 6/100\n",
            "38/38 [==============================] - 8s 216ms/step - loss: 9.4259e-04 - accuracy: 0.9992 - val_loss: 0.0126 - val_accuracy: 0.7333\n",
            "Epoch 7/100\n",
            "38/38 [==============================] - 8s 216ms/step - loss: 7.0130e-04 - accuracy: 1.0000 - val_loss: 0.0124 - val_accuracy: 0.7467\n",
            "Epoch 8/100\n",
            "38/38 [==============================] - 8s 220ms/step - loss: 5.4101e-04 - accuracy: 1.0000 - val_loss: 0.0123 - val_accuracy: 0.7400\n",
            "Epoch 9/100\n",
            "38/38 [==============================] - 9s 228ms/step - loss: 4.4179e-04 - accuracy: 1.0000 - val_loss: 0.0122 - val_accuracy: 0.7433\n",
            "Epoch 10/100\n",
            "38/38 [==============================] - 8s 215ms/step - loss: 3.7104e-04 - accuracy: 1.0000 - val_loss: 0.0122 - val_accuracy: 0.7400\n"
          ],
          "name": "stdout"
        }
      ]
    },
    {
      "cell_type": "code",
      "metadata": {
        "id": "RYbAN-2QjkPU",
        "colab_type": "code",
        "colab": {}
      },
      "source": [
        "import datetime\n",
        "def save_model(model, suffix=None):\n",
        "  \"\"\"\n",
        "  Saves a given model in a models directory and appends a suffix (str)\n",
        "  for clarity and reuse.\n",
        "  \"\"\"\n",
        "  # Create model directory with current time\n",
        "  modeldir = os.path.join(\"drive/My Drive/dog vision/Models\",\n",
        "                          datetime.datetime.now().strftime(\"%Y%m%d-%H%M\"))\n",
        "  model_path = modeldir + \"-\" + suffix + \".h5\" # save format of model\n",
        "  print(f\"Saving model to: {model_path}...\")\n",
        "  model.save(model_path)\n",
        "  return model_path\n",
        "\n"
      ],
      "execution_count": 0,
      "outputs": []
    },
    {
      "cell_type": "code",
      "metadata": {
        "id": "APP1bYwvfUS0",
        "colab_type": "code",
        "colab": {}
      },
      "source": [
        "save_model(model1,suffix=\"1500-images-1\")"
      ],
      "execution_count": 0,
      "outputs": []
    },
    {
      "cell_type": "code",
      "metadata": {
        "id": "fObmD3OujkIM",
        "colab_type": "code",
        "colab": {}
      },
      "source": [
        "def load_model(model_path):\n",
        "  \"\"\"\n",
        "  Given the path of a model, it loads the model.\n",
        "  \"\"\"\n",
        "  model=tf.keras.models.load_model(model_path,\n",
        "                                   custom_objects={\"KerasLayer\":hub.KerasLayer})\n",
        "  return model"
      ],
      "execution_count": 0,
      "outputs": []
    },
    {
      "cell_type": "code",
      "metadata": {
        "id": "NFsHEh_iSXxn",
        "colab_type": "code",
        "colab": {}
      },
      "source": [
        "trained_model=load_model(\"drive/My Drive/dog vision/Models/20200531-1128-1500-images-1.h5\")"
      ],
      "execution_count": 0,
      "outputs": []
    },
    {
      "cell_type": "markdown",
      "metadata": {
        "id": "Gkktfb7Hf9ZD",
        "colab_type": "text"
      },
      "source": [
        "Loading test data set."
      ]
    },
    {
      "cell_type": "code",
      "metadata": {
        "id": "Yh9TboAwQ7S4",
        "colab_type": "code",
        "colab": {
          "base_uri": "https://localhost:8080/",
          "height": 52
        },
        "outputId": "eb5b41f9-cbb3-4bff-90b7-a5ec64dd0e58"
      },
      "source": [
        "import os\n",
        "testpath=\"drive/My Drive/dog vision/german/\"\n",
        "test_data=[testpath+path for path in os.listdir(testpath)]\n",
        "test_data"
      ],
      "execution_count": 263,
      "outputs": [
        {
          "output_type": "execute_result",
          "data": {
            "text/plain": [
              "['drive/My Drive/dog vision/german/1._DSC_0346_(10096362833).jpg',\n",
              " 'drive/My Drive/dog vision/german/German-Shepherd-on-White-00.jpg']"
            ]
          },
          "metadata": {
            "tags": []
          },
          "execution_count": 263
        }
      ]
    },
    {
      "cell_type": "markdown",
      "metadata": {
        "id": "41vp4PDggNmJ",
        "colab_type": "text"
      },
      "source": [
        "Converting test data into batches"
      ]
    },
    {
      "cell_type": "code",
      "metadata": {
        "id": "f_LLInU-Rhnj",
        "colab_type": "code",
        "colab": {
          "base_uri": "https://localhost:8080/",
          "height": 52
        },
        "outputId": "ac980471-770d-4a2b-e939-33a41a56bc42"
      },
      "source": [
        "test_data=get_data_batches(test_data,test_data=True)"
      ],
      "execution_count": 264,
      "outputs": [
        {
          "output_type": "stream",
          "text": [
            "Making Test data batches.....\n",
            "Done.\n"
          ],
          "name": "stdout"
        }
      ]
    },
    {
      "cell_type": "markdown",
      "metadata": {
        "id": "mrlrHgPhgSSH",
        "colab_type": "text"
      },
      "source": [
        "Making predictions on test data."
      ]
    },
    {
      "cell_type": "code",
      "metadata": {
        "id": "kz-I7meeSuAC",
        "colab_type": "code",
        "colab": {}
      },
      "source": [
        "predictions=trained_model.predict(test_data)"
      ],
      "execution_count": 0,
      "outputs": []
    },
    {
      "cell_type": "code",
      "metadata": {
        "id": "RZVXxXRLS6Iu",
        "colab_type": "code",
        "colab": {
          "base_uri": "https://localhost:8080/",
          "height": 555
        },
        "outputId": "3b5b18ae-fa00-41ae-d5a2-a0d47a23b106"
      },
      "source": [
        "predictions[1]"
      ],
      "execution_count": 138,
      "outputs": [
        {
          "output_type": "execute_result",
          "data": {
            "text/plain": [
              "array([4.2488791e-05, 2.2601993e-04, 1.3499960e-04, 7.8502577e-04,\n",
              "       1.1016913e-05, 4.3928158e-04, 4.7398315e-04, 1.3092549e-04,\n",
              "       4.4417509e-05, 7.3978968e-05, 9.1841321e-06, 5.6724024e-05,\n",
              "       3.8752542e-04, 4.3263095e-05, 1.8838713e-03, 6.7543617e-05,\n",
              "       2.2278409e-03, 1.6142227e-04, 1.7354540e-04, 6.6891305e-05,\n",
              "       1.3758335e-04, 1.1649002e-05, 1.2080226e-03, 2.6535950e-04,\n",
              "       1.5400061e-05, 5.3990056e-04, 2.9787252e-04, 2.9341850e-04,\n",
              "       3.4440181e-05, 4.7142347e-04, 2.1278583e-04, 2.1559927e-05,\n",
              "       4.2228876e-05, 2.7533955e-04, 1.5091256e-05, 1.1436826e-05,\n",
              "       2.1008408e-04, 1.4810109e-03, 2.2841727e-03, 1.8103912e-03,\n",
              "       3.1882607e-06, 2.0689380e-05, 4.5786408e-05, 1.2945225e-03,\n",
              "       3.2323919e-04, 1.9164196e-04, 8.0838680e-01, 1.6367456e-05,\n",
              "       9.4127063e-05, 2.0805003e-04, 5.4158224e-04, 1.6010912e-04,\n",
              "       3.5954724e-04, 3.6880220e-04, 2.6765522e-03, 7.9687452e-05,\n",
              "       2.8459946e-04, 8.2221790e-04, 1.3868518e-04, 4.3016124e-05,\n",
              "       1.4585229e-05, 4.6807789e-05, 1.1952856e-04, 1.3809136e-02,\n",
              "       6.1469320e-05, 3.3248405e-05, 3.0503873e-04, 4.3211351e-03,\n",
              "       1.9321864e-05, 7.7483067e-03, 1.4003461e-05, 5.8291660e-04,\n",
              "       1.0584546e-01, 1.0949165e-05, 3.5728290e-04, 7.2550969e-03,\n",
              "       1.4753186e-05, 5.9250688e-06, 8.5195688e-06, 1.3637780e-05,\n",
              "       3.4787217e-03, 1.2178188e-03, 6.5754875e-06, 7.4258809e-05,\n",
              "       1.1554778e-05, 1.4688635e-05, 1.1892855e-04, 2.1471511e-05,\n",
              "       2.0035506e-04, 1.7370660e-03, 9.0593664e-04, 7.1005323e-03,\n",
              "       2.7917149e-05, 1.0360713e-04, 2.9426354e-05, 1.4595734e-03,\n",
              "       1.8366145e-03, 4.8923794e-05, 1.1347639e-05, 1.0214405e-04,\n",
              "       1.5626385e-05, 2.2451162e-04, 7.8318582e-04, 3.0418205e-05,\n",
              "       2.9321446e-04, 8.1851141e-04, 4.8954131e-05, 1.2039453e-05,\n",
              "       2.5946670e-04, 6.0665232e-05, 1.3486558e-05, 3.2785828e-03,\n",
              "       2.7279813e-05, 3.8193658e-04, 8.5722466e-05, 3.6895857e-05,\n",
              "       2.4790017e-05, 1.2553141e-04, 1.1933864e-03, 5.2979816e-05],\n",
              "      dtype=float32)"
            ]
          },
          "metadata": {
            "tags": []
          },
          "execution_count": 138
        }
      ]
    },
    {
      "cell_type": "code",
      "metadata": {
        "id": "A7Kl7jROTASh",
        "colab_type": "code",
        "colab": {}
      },
      "source": [
        ""
      ],
      "execution_count": 0,
      "outputs": []
    },
    {
      "cell_type": "markdown",
      "metadata": {
        "id": "5Q2IHLxzTMnL",
        "colab_type": "text"
      },
      "source": [
        "## Visualizing the predictions"
      ]
    },
    {
      "cell_type": "code",
      "metadata": {
        "id": "q_NhOmWlTR_H",
        "colab_type": "code",
        "colab": {
          "base_uri": "https://localhost:8080/",
          "height": 34
        },
        "outputId": "22d9aa60-f565-4f1f-a88d-54a86896ffba"
      },
      "source": [
        "all_breeds[np.argmax(predictions[0])]"
      ],
      "execution_count": 266,
      "outputs": [
        {
          "output_type": "execute_result",
          "data": {
            "text/plain": [
              "'german_shepherd'"
            ]
          },
          "metadata": {
            "tags": []
          },
          "execution_count": 266
        }
      ]
    },
    {
      "cell_type": "code",
      "metadata": {
        "id": "u8VajVkdTpI0",
        "colab_type": "code",
        "colab": {}
      },
      "source": [
        "def get_pred_labels(predictions,n=1):\n",
        "  \"\"\"\n",
        "  Label the image according to model predictions.\n",
        "  \"\"\"\n",
        "  return all_breeds[np.argmax(predictions[n])]\n"
      ],
      "execution_count": 0,
      "outputs": []
    },
    {
      "cell_type": "code",
      "metadata": {
        "id": "LDrYL5HRYRWJ",
        "colab_type": "code",
        "colab": {
          "base_uri": "https://localhost:8080/",
          "height": 34
        },
        "outputId": "def9221d-3be9-4511-8674-4c183674ee8c"
      },
      "source": [
        "get_pred_labels(predictions,n=0)"
      ],
      "execution_count": 268,
      "outputs": [
        {
          "output_type": "execute_result",
          "data": {
            "text/plain": [
              "'german_shepherd'"
            ]
          },
          "metadata": {
            "tags": []
          },
          "execution_count": 268
        }
      ]
    },
    {
      "cell_type": "code",
      "metadata": {
        "id": "XJ2Eyrh-Wq_2",
        "colab_type": "code",
        "colab": {}
      },
      "source": [
        "def unbatchyfy(data):\n",
        "  \"\"\"\n",
        "  Unbatchyfy images to visualize.\n",
        "  \"\"\"\n",
        "  images=[]\n",
        "  for image in data.unbatch().as_numpy_iterator():\n",
        "    images.append(image)\n",
        "    \n",
        "  return images"
      ],
      "execution_count": 0,
      "outputs": []
    },
    {
      "cell_type": "code",
      "metadata": {
        "id": "tgVrtygIXCIN",
        "colab_type": "code",
        "colab": {
          "base_uri": "https://localhost:8080/",
          "height": 868
        },
        "outputId": "a64f5121-68c8-4cbe-cf8f-cb302676d45d"
      },
      "source": [
        "test_imgs=unbatchyfy(test_data)\n",
        "test_imgs[1]"
      ],
      "execution_count": 270,
      "outputs": [
        {
          "output_type": "execute_result",
          "data": {
            "text/plain": [
              "array([[[0.9960785, 0.9960785, 0.9960785],\n",
              "        [0.9960785, 0.9960785, 0.9960785],\n",
              "        [0.9960785, 0.9960785, 0.9960785],\n",
              "        ...,\n",
              "        [0.9960785, 0.9960785, 0.9960785],\n",
              "        [0.9960785, 0.9960785, 0.9960785],\n",
              "        [0.9960785, 0.9960785, 0.9960785]],\n",
              "\n",
              "       [[0.9960785, 0.9960785, 0.9960785],\n",
              "        [0.9960785, 0.9960785, 0.9960785],\n",
              "        [0.9960785, 0.9960785, 0.9960785],\n",
              "        ...,\n",
              "        [0.9960785, 0.9960785, 0.9960785],\n",
              "        [0.9960785, 0.9960785, 0.9960785],\n",
              "        [0.9960785, 0.9960785, 0.9960785]],\n",
              "\n",
              "       [[0.9960785, 0.9960785, 0.9960785],\n",
              "        [0.9960785, 0.9960785, 0.9960785],\n",
              "        [0.9960785, 0.9960785, 0.9960785],\n",
              "        ...,\n",
              "        [0.9960785, 0.9960785, 0.9960785],\n",
              "        [0.9960785, 0.9960785, 0.9960785],\n",
              "        [0.9960785, 0.9960785, 0.9960785]],\n",
              "\n",
              "       ...,\n",
              "\n",
              "       [[0.9960785, 0.9960785, 0.9960785],\n",
              "        [0.9960785, 0.9960785, 0.9960785],\n",
              "        [0.9960785, 0.9960785, 0.9960785],\n",
              "        ...,\n",
              "        [0.9960785, 0.9960785, 0.9960785],\n",
              "        [0.9960785, 0.9960785, 0.9960785],\n",
              "        [0.9960785, 0.9960785, 0.9960785]],\n",
              "\n",
              "       [[0.9960785, 0.9960785, 0.9960785],\n",
              "        [0.9960785, 0.9960785, 0.9960785],\n",
              "        [0.9960785, 0.9960785, 0.9960785],\n",
              "        ...,\n",
              "        [0.9960785, 0.9960785, 0.9960785],\n",
              "        [0.9960785, 0.9960785, 0.9960785],\n",
              "        [0.9960785, 0.9960785, 0.9960785]],\n",
              "\n",
              "       [[0.9960785, 0.9960785, 0.9960785],\n",
              "        [0.9960785, 0.9960785, 0.9960785],\n",
              "        [0.9960785, 0.9960785, 0.9960785],\n",
              "        ...,\n",
              "        [0.9960785, 0.9960785, 0.9960785],\n",
              "        [0.9960785, 0.9960785, 0.9960785],\n",
              "        [0.9960785, 0.9960785, 0.9960785]]], dtype=float32)"
            ]
          },
          "metadata": {
            "tags": []
          },
          "execution_count": 270
        }
      ]
    },
    {
      "cell_type": "code",
      "metadata": {
        "id": "B1RinuaEWQ0J",
        "colab_type": "code",
        "colab": {}
      },
      "source": [
        "def plot_preds(images,predictions,i=1):\n",
        "  \"\"\"\n",
        "  Plot the images with their predicted labels and confidence level.\n",
        "  \"\"\"\n",
        "  pred_labels=get_pred_labels(predictions,n=i)\n",
        "  image=images[i]\n",
        "  plt.imshow(image)\n",
        "  plt.xticks([])\n",
        "  plt.yticks([])\n",
        "  plt.title(f\"It's a {pred_labels} with {round(np.max(predictions[i])*100,2)}% confidence.\")"
      ],
      "execution_count": 0,
      "outputs": []
    },
    {
      "cell_type": "code",
      "metadata": {
        "id": "9qN8fkYNX87G",
        "colab_type": "code",
        "colab": {
          "base_uri": "https://localhost:8080/",
          "height": 268
        },
        "outputId": "936f7cca-3375-4ff8-aaed-fd2617b74283"
      },
      "source": [
        "plot_preds(test_imgs,predictions,i=0)"
      ],
      "execution_count": 273,
      "outputs": [
        {
          "output_type": "display_data",
          "data": {
            "image/png": "[encoded data removed]",
            "text/plain": [
              "<Figure size 432x288 with 1 Axes>"
            ]
          },
          "metadata": {
            "tags": []
          }
        }
      ]
    },
    {
      "cell_type": "markdown",
      "metadata": {
        "id": "mvsvhvOdVRxA",
        "colab_type": "text"
      },
      "source": [
        ""
      ]
    }
  ]
}