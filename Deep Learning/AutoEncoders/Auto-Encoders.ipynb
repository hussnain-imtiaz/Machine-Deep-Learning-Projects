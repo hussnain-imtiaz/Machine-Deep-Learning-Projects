{
 "cells": [
  {
   "cell_type": "markdown",
   "metadata": {},
   "source": [
    "# Dimensionality Reduction Using Auto Encoders\n",
    "This notebook implements the auto encoders to reduce the dimesionality of image from (28 by 28) to (5 by 5), which means that it converts 784 features to 25."
   ]
  },
  {
   "cell_type": "markdown",
   "metadata": {},
   "source": [
    "## 1. Problem Definition:\n",
    "We have to analyse and see that how auto encoder actract features, reduce size and reconstruct the same features(Image) using encoded features. \n",
    "  \n",
    "## 2. Data:\n",
    "Orignal Dataset came keras mnist data set but we can use any of our own too.\n",
    "  \n",
    "## 3. Getting Toolkit Ready:  "
   ]
  },
  {
   "cell_type": "code",
   "execution_count": 1,
   "metadata": {},
   "outputs": [
    {
     "name": "stderr",
     "output_type": "stream",
     "text": [
      "Using TensorFlow backend.\n"
     ]
    }
   ],
   "source": [
    "import pandas as pd\n",
    "import numpy as np\n",
    "import matplotlib.pyplot as plt\n",
    "from keras.models import Sequential\n",
    "from keras.layers import Dense,Flatten,Reshape\n",
    "from keras.optimizers import SGD\n",
    "from keras.datasets import mnist\n",
    "from sklearn.preprocessing import MinMaxScaler\n",
    "from keras.preprocessing import image"
   ]
  },
  {
   "cell_type": "markdown",
   "metadata": {},
   "source": [
    "## 4. Getting Data Ready:"
   ]
  },
  {
   "cell_type": "code",
   "execution_count": 2,
   "metadata": {},
   "outputs": [],
   "source": [
    "(X_train,y_train),(X_test,y_test)=mnist.load_data()"
   ]
  },
  {
   "cell_type": "code",
   "execution_count": 3,
   "metadata": {},
   "outputs": [
    {
     "data": {
      "text/plain": [
       "3"
      ]
     },
     "execution_count": 3,
     "metadata": {},
     "output_type": "execute_result"
    }
   ],
   "source": [
    "X_train.ndim"
   ]
  },
  {
   "cell_type": "code",
   "execution_count": 4,
   "metadata": {},
   "outputs": [
    {
     "data": {
      "image/png": "[encoded data removed]",
      "text/plain": [
       "<Figure size 432x288 with 1 Axes>"
      ]
     },
     "metadata": {
      "needs_background": "light"
     },
     "output_type": "display_data"
    }
   ],
   "source": [
    "plt.imshow(X_train[0]); "
   ]
  },
  {
   "cell_type": "code",
   "execution_count": 5,
   "metadata": {},
   "outputs": [
    {
     "data": {
      "text/plain": [
       "(60000, 28, 28)"
      ]
     },
     "execution_count": 5,
     "metadata": {},
     "output_type": "execute_result"
    }
   ],
   "source": [
    "X_train.shape"
   ]
  },
  {
   "cell_type": "code",
   "execution_count": 6,
   "metadata": {},
   "outputs": [
    {
     "data": {
      "text/plain": [
       "784"
      ]
     },
     "execution_count": 6,
     "metadata": {},
     "output_type": "execute_result"
    }
   ],
   "source": [
    "28*28"
   ]
  },
  {
   "cell_type": "markdown",
   "metadata": {},
   "source": [
    "You can see that we are really too much features . Literly (28 by 28) means `784` features. So lets convert them into 25 and see how autoencoder preserve our all the features."
   ]
  },
  {
   "cell_type": "code",
   "execution_count": 7,
   "metadata": {},
   "outputs": [],
   "source": [
    "## Scaling the features\n",
    "X_train=X_train/255"
   ]
  },
  {
   "cell_type": "code",
   "execution_count": 8,
   "metadata": {},
   "outputs": [
    {
     "data": {
      "text/plain": [
       "(60000, 28, 28)"
      ]
     },
     "execution_count": 8,
     "metadata": {},
     "output_type": "execute_result"
    }
   ],
   "source": [
    "X_train.shape"
   ]
  },
  {
   "cell_type": "code",
   "execution_count": 9,
   "metadata": {},
   "outputs": [],
   "source": [
    "X_test=X_test/255"
   ]
  },
  {
   "cell_type": "markdown",
   "metadata": {},
   "source": [
    "## 5. Building Auto Encoder:"
   ]
  },
  {
   "cell_type": "code",
   "execution_count": 10,
   "metadata": {},
   "outputs": [],
   "source": [
    "## Building Encoder\n",
    "encoder=Sequential([\n",
    "    Flatten(input_shape=[28,28]),\n",
    "    Dense(units=400,activation=\"relu\"),\n",
    "    Dense(units=200,activation=\"relu\"),\n",
    "    Dense(units=100,activation=\"relu\"),\n",
    "    Dense(units=50,activation=\"relu\"),\n",
    "    Dense(units=25,activation=\"relu\")\n",
    "])\n",
    "\n",
    "#Decoder\n",
    "decoder=Sequential([\n",
    "    Dense(units=50,input_shape=[25],activation=\"relu\"),\n",
    "    Dense(units=100,activation=\"relu\"),\n",
    "    Dense(units=200,activation=\"relu\"),\n",
    "    Dense(units=400,activation=\"relu\"),\n",
    "    Dense(units=784,activation=\"sigmoid\"),\n",
    "    Reshape([28,28])\n",
    "])\n",
    "\n",
    "#combining the both\n",
    "model=Sequential([encoder,decoder])\n",
    "## Compiling the model\n",
    "model.compile(optimizer=SGD(learning_rate=1.15),\n",
    "             loss=\"binary_crossentropy\",\n",
    "             metrics=[\"accuracy\"])"
   ]
  },
  {
   "cell_type": "code",
   "execution_count": 11,
   "metadata": {},
   "outputs": [
    {
     "name": "stdout",
     "output_type": "stream",
     "text": [
      "Train on 60000 samples, validate on 10000 samples\n",
      "Epoch 1/10\n",
      "60000/60000 [==============================] - 26s 430us/step - loss: 0.2524 - accuracy: 0.7905 - val_loss: 0.2163 - val_accuracy: 0.7920\n",
      "Epoch 2/10\n",
      "60000/60000 [==============================] - 25s 415us/step - loss: 0.1912 - accuracy: 0.7963 - val_loss: 0.1772 - val_accuracy: 0.7983\n",
      "Epoch 3/10\n",
      "60000/60000 [==============================] - 25s 417us/step - loss: 0.1653 - accuracy: 0.8011 - val_loss: 0.1577 - val_accuracy: 0.8024\n",
      "Epoch 4/10\n",
      "60000/60000 [==============================] - 27s 452us/step - loss: 0.1550 - accuracy: 0.8028 - val_loss: 0.1465 - val_accuracy: 0.8042\n",
      "Epoch 5/10\n",
      "60000/60000 [==============================] - 28s 461us/step - loss: 0.1466 - accuracy: 0.8044 - val_loss: 0.1419 - val_accuracy: 0.8025\n",
      "Epoch 6/10\n",
      "60000/60000 [==============================] - 28s 463us/step - loss: 0.1401 - accuracy: 0.8058 - val_loss: 0.1345 - val_accuracy: 0.8044\n",
      "Epoch 7/10\n",
      "60000/60000 [==============================] - 28s 470us/step - loss: 0.1347 - accuracy: 0.8069 - val_loss: 0.1341 - val_accuracy: 0.8043\n",
      "Epoch 8/10\n",
      "60000/60000 [==============================] - 29s 477us/step - loss: 0.1310 - accuracy: 0.8076 - val_loss: 0.1282 - val_accuracy: 0.8080\n",
      "Epoch 9/10\n",
      "60000/60000 [==============================] - 29s 485us/step - loss: 0.1278 - accuracy: 0.8082 - val_loss: 0.1273 - val_accuracy: 0.8082\n",
      "Epoch 10/10\n",
      "60000/60000 [==============================] - 29s 484us/step - loss: 0.1250 - accuracy: 0.8086 - val_loss: 0.1221 - val_accuracy: 0.8073\n"
     ]
    },
    {
     "data": {
      "text/plain": [
       "<keras.callbacks.callbacks.History at 0x7f0b01e410d0>"
      ]
     },
     "execution_count": 11,
     "metadata": {},
     "output_type": "execute_result"
    }
   ],
   "source": [
    "model.fit(X_train,\n",
    "          X_train,\n",
    "          epochs=10,\n",
    "         validation_data=[X_test,X_test])"
   ]
  },
  {
   "cell_type": "markdown",
   "metadata": {},
   "source": [
    "### Checking Orignal and Reconstructed Images:"
   ]
  },
  {
   "cell_type": "code",
   "execution_count": 13,
   "metadata": {},
   "outputs": [],
   "source": [
    "recons_img=model.predict(X_test[:10])"
   ]
  },
  {
   "cell_type": "code",
   "execution_count": 14,
   "metadata": {},
   "outputs": [
    {
     "data": {
      "image/png": "[encoded data removed]",
      "text/plain": [
       "<Figure size 432x288 with 1 Axes>"
      ]
     },
     "metadata": {
      "needs_background": "light"
     },
     "output_type": "display_data"
    },
    {
     "data": {
      "text/plain": [
       "<matplotlib.image.AxesImage at 0x7f0b01123dd0>"
      ]
     },
     "execution_count": 14,
     "metadata": {},
     "output_type": "execute_result"
    },
    {
     "data": {
      "image/png": "[encoded data removed]",
      "text/plain": [
       "<Figure size 432x288 with 1 Axes>"
      ]
     },
     "metadata": {
      "needs_background": "light"
     },
     "output_type": "display_data"
    }
   ],
   "source": [
    "n=1\n",
    "plt.title('Orignal Image');\n",
    "plt.imshow(X_test[n])\n",
    "plt.show()\n",
    "plt.title(\"Reconstructed Image\");\n",
    "plt.imshow(recons_img[n])"
   ]
  },
  {
   "cell_type": "markdown",
   "metadata": {},
   "source": [
    "#### We can fit such model on our custom data set and improve it too.\n",
    "#### Thank YOU"
   ]
  },
  {
   "cell_type": "code",
   "execution_count": null,
   "metadata": {},
   "outputs": [],
   "source": []
  }
 ],
 "metadata": {
  "kernelspec": {
   "display_name": "Python 3",
   "language": "python",
   "name": "python3"
  },
  "language_info": {
   "codemirror_mode": {
    "name": "ipython",
    "version": 3
   },
   "file_extension": ".py",
   "mimetype": "text/x-python",
   "name": "python",
   "nbconvert_exporter": "python",
   "pygments_lexer": "ipython3",
   "version": "3.7.7"
  }
 },
 "nbformat": 4,
 "nbformat_minor": 4
}
