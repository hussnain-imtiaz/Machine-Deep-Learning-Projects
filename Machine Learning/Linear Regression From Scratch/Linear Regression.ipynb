{
 "cells": [
  {
   "cell_type": "markdown",
   "metadata": {},
   "source": [
    "# Linear Regression with one varibale:\n",
    "This notebook implements the univariate linear regression algorithm using `Python-Numpy`."
   ]
  },
  {
   "cell_type": "code",
   "execution_count": 1,
   "metadata": {},
   "outputs": [],
   "source": [
    "import numpy as np\n",
    "import pandas as pd\n",
    "import matplotlib.pyplot as plt"
   ]
  },
  {
   "cell_type": "markdown",
   "metadata": {},
   "source": [
    "### 1. Getting Data Ready:"
   ]
  },
  {
   "cell_type": "code",
   "execution_count": 2,
   "metadata": {},
   "outputs": [
    {
     "data": {
      "text/html": [
       "<div>\n",
       "<style scoped>\n",
       "    .dataframe tbody tr th:only-of-type {\n",
       "        vertical-align: middle;\n",
       "    }\n",
       "\n",
       "    .dataframe tbody tr th {\n",
       "        vertical-align: top;\n",
       "    }\n",
       "\n",
       "    .dataframe thead th {\n",
       "        text-align: right;\n",
       "    }\n",
       "</style>\n",
       "<table border=\"1\" class=\"dataframe\">\n",
       "  <thead>\n",
       "    <tr style=\"text-align: right;\">\n",
       "      <th></th>\n",
       "      <th>Population</th>\n",
       "      <th>Price</th>\n",
       "    </tr>\n",
       "  </thead>\n",
       "  <tbody>\n",
       "    <tr>\n",
       "      <th>0</th>\n",
       "      <td>6.1101</td>\n",
       "      <td>17.59200</td>\n",
       "    </tr>\n",
       "    <tr>\n",
       "      <th>1</th>\n",
       "      <td>5.5277</td>\n",
       "      <td>9.13020</td>\n",
       "    </tr>\n",
       "    <tr>\n",
       "      <th>2</th>\n",
       "      <td>8.5186</td>\n",
       "      <td>13.66200</td>\n",
       "    </tr>\n",
       "    <tr>\n",
       "      <th>3</th>\n",
       "      <td>7.0032</td>\n",
       "      <td>11.85400</td>\n",
       "    </tr>\n",
       "    <tr>\n",
       "      <th>4</th>\n",
       "      <td>5.8598</td>\n",
       "      <td>6.82330</td>\n",
       "    </tr>\n",
       "    <tr>\n",
       "      <th>...</th>\n",
       "      <td>...</td>\n",
       "      <td>...</td>\n",
       "    </tr>\n",
       "    <tr>\n",
       "      <th>92</th>\n",
       "      <td>5.8707</td>\n",
       "      <td>7.20290</td>\n",
       "    </tr>\n",
       "    <tr>\n",
       "      <th>93</th>\n",
       "      <td>5.3054</td>\n",
       "      <td>1.98690</td>\n",
       "    </tr>\n",
       "    <tr>\n",
       "      <th>94</th>\n",
       "      <td>8.2934</td>\n",
       "      <td>0.14454</td>\n",
       "    </tr>\n",
       "    <tr>\n",
       "      <th>95</th>\n",
       "      <td>13.3940</td>\n",
       "      <td>9.05510</td>\n",
       "    </tr>\n",
       "    <tr>\n",
       "      <th>96</th>\n",
       "      <td>5.4369</td>\n",
       "      <td>0.61705</td>\n",
       "    </tr>\n",
       "  </tbody>\n",
       "</table>\n",
       "<p>97 rows × 2 columns</p>\n",
       "</div>"
      ],
      "text/plain": [
       "    Population     Price\n",
       "0       6.1101  17.59200\n",
       "1       5.5277   9.13020\n",
       "2       8.5186  13.66200\n",
       "3       7.0032  11.85400\n",
       "4       5.8598   6.82330\n",
       "..         ...       ...\n",
       "92      5.8707   7.20290\n",
       "93      5.3054   1.98690\n",
       "94      8.2934   0.14454\n",
       "95     13.3940   9.05510\n",
       "96      5.4369   0.61705\n",
       "\n",
       "[97 rows x 2 columns]"
      ]
     },
     "execution_count": 2,
     "metadata": {},
     "output_type": "execute_result"
    }
   ],
   "source": [
    "data=pd.read_csv(\"ex1data1.txt\",header=None)\n",
    "data=pd.DataFrame(data.values,columns=[\"Population\",\"Price\"])\n",
    "data"
   ]
  },
  {
   "cell_type": "markdown",
   "metadata": {},
   "source": [
    "#### Visualize the data:"
   ]
  },
  {
   "cell_type": "code",
   "execution_count": 3,
   "metadata": {},
   "outputs": [
    {
     "data": {
      "image/png": "[encoded data removed]",
      "text/plain": [
       "<Figure size 432x288 with 1 Axes>"
      ]
     },
     "metadata": {
      "needs_background": "light"
     },
     "output_type": "display_data"
    }
   ],
   "source": [
    "plt.scatter(data.Population,data.Price);\n",
    "plt.xticks(np.arange(5,30,5));\n",
    "plt.yticks(np.arange(-3,30,5));\n",
    "plt.title(\"Population VS Sale Price\");\n",
    "plt.xlabel(\"Population (10,000s)\");\n",
    "plt.ylabel(\"Price ($10,000)\");"
   ]
  },
  {
   "cell_type": "markdown",
   "metadata": {},
   "source": [
    "### Initializing our Input features/X and parametres/Theta."
   ]
  },
  {
   "cell_type": "code",
   "execution_count": 4,
   "metadata": {},
   "outputs": [],
   "source": [
    "X=data[\"Population\"].to_numpy() ### saving x as numpy array so that we can use it in calculation using numpy\n",
    "X=np.append(np.ones((len(X),1)),X.reshape(len(X),1),axis=1)#reshaping it and adding X0=1"
   ]
  },
  {
   "cell_type": "code",
   "execution_count": 5,
   "metadata": {},
   "outputs": [],
   "source": [
    "y=data[\"Price\"].to_numpy() ### saving x as numpy array so that we can use it in calculation using numpy\n",
    "y=y.reshape(len(y),1) #reshaping it in (97,1),97 rows and 1 column "
   ]
  },
  {
   "cell_type": "code",
   "execution_count": 6,
   "metadata": {},
   "outputs": [],
   "source": [
    "theta=np.zeros((2,1)) #intializing theta with 0 values, shape of 2 by 1"
   ]
  },
  {
   "cell_type": "code",
   "execution_count": 7,
   "metadata": {},
   "outputs": [
    {
     "data": {
      "text/plain": [
       "(2, 1)"
      ]
     },
     "execution_count": 7,
     "metadata": {},
     "output_type": "execute_result"
    }
   ],
   "source": [
    "theta.shape"
   ]
  },
  {
   "cell_type": "code",
   "execution_count": null,
   "metadata": {},
   "outputs": [],
   "source": []
  },
  {
   "cell_type": "markdown",
   "metadata": {},
   "source": [
    "### Defining Cost and gradient Descent Function "
   ]
  },
  {
   "cell_type": "code",
   "execution_count": 8,
   "metadata": {},
   "outputs": [],
   "source": [
    "def hyp_fn(X,theta):\n",
    "    \"\"\"\n",
    "    Returns the predictions using input feature and parameters(Theta).\n",
    "    \"\"\"\n",
    "    return np.dot(X,theta)\n",
    "\n",
    "def j_theta(X,theta,y):\n",
    "    \"\"\"\n",
    "    Calculate the mean squared error between h(x) and y.\n",
    "    \"\"\"\n",
    "    m=len(y)\n",
    "    predictions=hyp_fn(X,theta)\n",
    "    squared_error=np.square(predictions-y)\n",
    "    return 1/(2*m) * np.sum(squared_error)\n",
    "\n",
    "def gradient_descent(n_iters,learn_rate,X,y,theta):\n",
    "    \"\"\"\n",
    "    Take number of iters and learning rate and select parameters to minimize the cost function.\n",
    "    \"\"\"\n",
    "    m=len(y)\n",
    "    j_dict=[]\n",
    "    for i in range(n_iters):\n",
    "        predictions=hyp_fn(X,theta)\n",
    "        error=predictions-y\n",
    "        slope=1/m * np.dot(X.transpose(),error) \n",
    "        theta=theta-(learn_rate*slope)\n",
    "        j_dict.append(j_theta(X,theta,y))\n",
    "    return theta,j_dict\n",
    "    "
   ]
  },
  {
   "cell_type": "markdown",
   "metadata": {},
   "source": [
    "### Visualizing the J(theta) and model on data set:"
   ]
  },
  {
   "cell_type": "code",
   "execution_count": 9,
   "metadata": {},
   "outputs": [
    {
     "data": {
      "image/png": "[encoded data removed]",
      "text/plain": [
       "<Figure size 432x288 with 1 Axes>"
      ]
     },
     "metadata": {
      "needs_background": "light"
     },
     "output_type": "display_data"
    }
   ],
   "source": [
    "#visualize model when our theta values were zero\n",
    "plt.scatter(data.Population,data.Price);\n",
    "plt.xticks(np.arange(5,30,step=5));\n",
    "plt.yticks(np.arange(-5,30,step=5));\n",
    "plt.title(\"Fitting Model With Initialized Parameters\");\n",
    "plt.xlabel(\"Population (10,000s)\");\n",
    "plt.ylabel(\"Price ($10,000)\");\n",
    "plt.plot(data.Population,[x for x in hyp_fn(X,theta)],color=\"r\");"
   ]
  },
  {
   "cell_type": "code",
   "execution_count": 10,
   "metadata": {},
   "outputs": [],
   "source": [
    "theta,j_dict=gradient_descent(1400,0.01,X,y,theta)"
   ]
  },
  {
   "cell_type": "code",
   "execution_count": 11,
   "metadata": {},
   "outputs": [
    {
     "data": {
      "image/png": "[encoded data removed]",
      "text/plain": [
       "<Figure size 432x288 with 1 Axes>"
      ]
     },
     "metadata": {
      "needs_background": "light"
     },
     "output_type": "display_data"
    }
   ],
   "source": [
    "#visualize model when our theta values were zero\n",
    "plt.scatter(data.Population,data.Price);\n",
    "plt.plot(data.Population,[x for x in hyp_fn(X,theta)],color=\"r\");\n",
    "plt.xticks(np.arange(0,30,5));\n",
    "plt.yticks(np.arange(-5,30,5));\n",
    "plt.title(\"Model Fitting After Gradient Descent\");\n",
    "plt.xlabel(\"Population (10,000s)\");\n",
    "plt.ylabel(\"Price ($10,000)\");"
   ]
  },
  {
   "cell_type": "code",
   "execution_count": 12,
   "metadata": {},
   "outputs": [
    {
     "data": {
      "image/png": "[encoded data removed]",
      "text/plain": [
       "<Figure size 432x288 with 1 Axes>"
      ]
     },
     "metadata": {
      "needs_background": "light"
     },
     "output_type": "display_data"
    }
   ],
   "source": [
    "#Visualizing the J(theta)/cost function and see how it converges.\n",
    "plt.plot(j_dict);\n",
    "plt.xlabel(\"Number of Iterations\");\n",
    "plt.ylabel(\"J(theta)\");\n",
    "plt.title(\"Convergence of J(Theta)\");"
   ]
  },
  {
   "cell_type": "markdown",
   "metadata": {},
   "source": [
    "Now our hypothesis function looks like this:"
   ]
  },
  {
   "cell_type": "code",
   "execution_count": 13,
   "metadata": {},
   "outputs": [
    {
     "name": "stdout",
     "output_type": "stream",
     "text": [
      "h(x) = -3.58 + 1.16X\n"
     ]
    }
   ],
   "source": [
    "hyp_function=print(f\"h(x) = {theta[0,0]:0.2f} + {theta[1,0]:.2f}X\")"
   ]
  },
  {
   "cell_type": "markdown",
   "metadata": {},
   "source": [
    "### Making predictions from our Model:\n",
    "Lets assume that we have house size=32 sq feet, we use our gradient descent choosen parameters to predict the house price."
   ]
  },
  {
   "cell_type": "code",
   "execution_count": 33,
   "metadata": {},
   "outputs": [],
   "source": [
    "def predict(x,theta):\n",
    "    \"\"\"\n",
    "    take a new input feature and using h(x) it predicts y.\n",
    "    \"\"\"\n",
    "    x=np.append(np.ones(1),x)\n",
    "    predictions=np.dot(theta.T,x)\n",
    "    print(f\"Price of house in Population of area {x[1]*10000:.0f} is {predictions[0]*10000:.2f}$.\")"
   ]
  },
  {
   "cell_type": "code",
   "execution_count": 34,
   "metadata": {},
   "outputs": [
    {
     "name": "stdout",
     "output_type": "stream",
     "text": [
      "Price of house in Population of area 40000 is 10665.57$.\n"
     ]
    }
   ],
   "source": [
    "predict(4,theta)"
   ]
  },
  {
   "cell_type": "code",
   "execution_count": null,
   "metadata": {},
   "outputs": [],
   "source": []
  }
 ],
 "metadata": {
  "kernelspec": {
   "display_name": "Python 3",
   "language": "python",
   "name": "python3"
  },
  "language_info": {
   "codemirror_mode": {
    "name": "ipython",
    "version": 3
   },
   "file_extension": ".py",
   "mimetype": "text/x-python",
   "name": "python",
   "nbconvert_exporter": "python",
   "pygments_lexer": "ipython3",
   "version": "3.7.6"
  }
 },
 "nbformat": 4,
 "nbformat_minor": 4
}
