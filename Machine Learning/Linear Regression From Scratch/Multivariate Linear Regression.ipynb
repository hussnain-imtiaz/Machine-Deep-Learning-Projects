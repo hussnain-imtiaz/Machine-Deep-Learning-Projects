{
 "cells": [
  {
   "cell_type": "markdown",
   "metadata": {},
   "source": [
    "# Multivariate Linear Regreaasion:\n",
    "This notebook implements the multivariate linear regression algorithm from scratch using python based libraries."
   ]
  },
  {
   "cell_type": "markdown",
   "metadata": {},
   "source": [
    "### Get data ready\n",
    "Data set is about house features and prices. We will use 2 variables for input which are size and rooms of house and we will predict the price of house which is the target variable."
   ]
  },
  {
   "cell_type": "code",
   "execution_count": 1,
   "metadata": {},
   "outputs": [],
   "source": [
    "import pandas as pd\n",
    "import numpy as np \n",
    "import matplotlib.pyplot as plt"
   ]
  },
  {
   "cell_type": "code",
   "execution_count": 2,
   "metadata": {},
   "outputs": [],
   "source": [
    "data=pd.read_csv(\"ex1data2.txt\",header=None)\n",
    "data=pd.DataFrame(data.values,columns=[\"Size\",\"Rooms\",\"Price\"])"
   ]
  },
  {
   "cell_type": "code",
   "execution_count": 3,
   "metadata": {},
   "outputs": [
    {
     "data": {
      "text/html": [
       "<div>\n",
       "<style scoped>\n",
       "    .dataframe tbody tr th:only-of-type {\n",
       "        vertical-align: middle;\n",
       "    }\n",
       "\n",
       "    .dataframe tbody tr th {\n",
       "        vertical-align: top;\n",
       "    }\n",
       "\n",
       "    .dataframe thead th {\n",
       "        text-align: right;\n",
       "    }\n",
       "</style>\n",
       "<table border=\"1\" class=\"dataframe\">\n",
       "  <thead>\n",
       "    <tr style=\"text-align: right;\">\n",
       "      <th></th>\n",
       "      <th>Size</th>\n",
       "      <th>Rooms</th>\n",
       "      <th>Price</th>\n",
       "    </tr>\n",
       "  </thead>\n",
       "  <tbody>\n",
       "    <tr>\n",
       "      <th>0</th>\n",
       "      <td>2104</td>\n",
       "      <td>3</td>\n",
       "      <td>399900</td>\n",
       "    </tr>\n",
       "    <tr>\n",
       "      <th>1</th>\n",
       "      <td>1600</td>\n",
       "      <td>3</td>\n",
       "      <td>329900</td>\n",
       "    </tr>\n",
       "    <tr>\n",
       "      <th>2</th>\n",
       "      <td>2400</td>\n",
       "      <td>3</td>\n",
       "      <td>369000</td>\n",
       "    </tr>\n",
       "    <tr>\n",
       "      <th>3</th>\n",
       "      <td>1416</td>\n",
       "      <td>2</td>\n",
       "      <td>232000</td>\n",
       "    </tr>\n",
       "    <tr>\n",
       "      <th>4</th>\n",
       "      <td>3000</td>\n",
       "      <td>4</td>\n",
       "      <td>539900</td>\n",
       "    </tr>\n",
       "  </tbody>\n",
       "</table>\n",
       "</div>"
      ],
      "text/plain": [
       "   Size  Rooms   Price\n",
       "0  2104      3  399900\n",
       "1  1600      3  329900\n",
       "2  2400      3  369000\n",
       "3  1416      2  232000\n",
       "4  3000      4  539900"
      ]
     },
     "execution_count": 3,
     "metadata": {},
     "output_type": "execute_result"
    }
   ],
   "source": [
    "data.head()"
   ]
  },
  {
   "cell_type": "markdown",
   "metadata": {},
   "source": [
    "### Defining functions for Feature Normalization, Hypothesis Function, Cost functions (`j(theta)`) and Gradient descent"
   ]
  },
  {
   "cell_type": "code",
   "execution_count": 4,
   "metadata": {},
   "outputs": [],
   "source": [
    "def feature_normalize(X):\n",
    "    \"\"\"\n",
    "    Take features and return their normalized form.\n",
    "    \"\"\"\n",
    "    mean=np.mean(X,axis=0)\n",
    "    std=np.std(X,axis=0)\n",
    "    normal=(X-mean)/std\n",
    "    return normal \n",
    "\n",
    "def hyp_fn(X,theta):\n",
    "    \"\"\"\n",
    "    Return the predicted values of y.\n",
    "    \"\"\"\n",
    "    return np.dot(X,theta)\n",
    "\n",
    "def j_theta(X,theta,y):\n",
    "    \"\"\"\n",
    "    Evaluate the cost function.\n",
    "    \"\"\"\n",
    "    m=len(y)\n",
    "    predictions=hyp_fn(X,theta)\n",
    "    squared_error=np.square(predictions-y)\n",
    "    return 1/(2*m) * np.sum(squared_error)\n",
    "\n",
    "def gradient_descent(iterations,learning_rate,X,y,theta):\n",
    "    \"\"\"\n",
    "    It minimizes the cost function and return paramteres that minimize its cost.\n",
    "    \"\"\"\n",
    "    m=len(y)\n",
    "    j_dict=[] #will contain j(theta) values for each iterations.\n",
    "    for i in range(iterations):\n",
    "        predictions=hyp_fn(X,theta)\n",
    "        error=predictions-y\n",
    "        slope=1/m*np.dot(X.T,error)\n",
    "        theta=theta-(learning_rate*slope)\n",
    "        j_dict.append(j_theta(X,theta,y))\n",
    "    return j_dict,theta"
   ]
  },
  {
   "cell_type": "markdown",
   "metadata": {},
   "source": [
    "### Initializing X,y and theta"
   ]
  },
  {
   "cell_type": "code",
   "execution_count": 5,
   "metadata": {},
   "outputs": [],
   "source": [
    "X1=data[\"Size\"].to_numpy()\n",
    "X2=data[\"Rooms\"].to_numpy()\n",
    "x=np.append(X1.reshape(len(X1),1),X2.reshape(len(X2),1),axis=1)\n",
    "x=feature_normalize(x)\n",
    "X=np.append(np.ones((len(X1),1)),x,axis=1)\n",
    "y=data[\"Price\"].to_numpy()\n",
    "y=y.reshape(len(X1),1)\n",
    "theta=np.zeros((3,1))"
   ]
  },
  {
   "cell_type": "markdown",
   "metadata": {},
   "source": [
    "### Calculating Initial cost "
   ]
  },
  {
   "cell_type": "code",
   "execution_count": 6,
   "metadata": {},
   "outputs": [
    {
     "name": "stdout",
     "output_type": "stream",
     "text": [
      "Cost= 65591548106.45744\n"
     ]
    }
   ],
   "source": [
    "#before applying gradient descent\n",
    "print(f\"Cost= {j_theta(X,theta,y)}\")"
   ]
  },
  {
   "cell_type": "markdown",
   "metadata": {},
   "source": [
    "### Applying Gradient descent "
   ]
  },
  {
   "cell_type": "code",
   "execution_count": 7,
   "metadata": {},
   "outputs": [],
   "source": [
    "j_dict,theta=gradient_descent(400,0.01,X,y,theta)"
   ]
  },
  {
   "cell_type": "markdown",
   "metadata": {},
   "source": [
    "### Visualizing the Convergence of Cost Function"
   ]
  },
  {
   "cell_type": "code",
   "execution_count": 8,
   "metadata": {},
   "outputs": [
    {
     "data": {
      "image/png": "[encoded data removed]",
      "text/plain": [
       "<Figure size 432x288 with 1 Axes>"
      ]
     },
     "metadata": {
      "needs_background": "light"
     },
     "output_type": "display_data"
    }
   ],
   "source": [
    "plt.plot(j_dict);\n",
    "plt.title('Convergence of Cost Function');\n",
    "plt.xlabel(\"No. of iterations.\")\n",
    "plt.ylabel(\"J(theta)\");"
   ]
  },
  {
   "cell_type": "code",
   "execution_count": 9,
   "metadata": {},
   "outputs": [
    {
     "data": {
      "text/plain": [
       "array([[334302.06399328],\n",
       "       [ 99411.44947359],\n",
       "       [  3267.01285407]])"
      ]
     },
     "execution_count": 9,
     "metadata": {},
     "output_type": "execute_result"
    }
   ],
   "source": [
    "#our parameters that yield this cost function\n",
    "theta"
   ]
  },
  {
   "cell_type": "code",
   "execution_count": 10,
   "metadata": {},
   "outputs": [
    {
     "name": "stdout",
     "output_type": "stream",
     "text": [
      "h(x) = 334302.06 + 99411.45x1 + 3267.01x2\n"
     ]
    }
   ],
   "source": [
    "# this is how our hypothesis function looks like\n",
    "print(f\"h(x) = {theta[0,0]:.2f} + {theta[1,0]:.2f}x1 + {theta[2,0]:.2f}x2\")"
   ]
  },
  {
   "cell_type": "markdown",
   "metadata": {},
   "source": [
    "### Making predictions using h(x)"
   ]
  },
  {
   "cell_type": "code",
   "execution_count": 11,
   "metadata": {},
   "outputs": [],
   "source": [
    "def predict(x1,x2,theta):\n",
    "    \"\"\"\n",
    "    Take a new feature and returns its predicted value.\n",
    "    \"\"\"\n",
    "    x=feature_normalize([x1,x2])\n",
    "    x=np.append(np.ones(1),x)\n",
    "    prediction=np.dot(theta.T,x)\n",
    "    print(f\"Price of house given its size={x1} and rooms={x2}, is {prediction[0]:.2f}$ .\")"
   ]
  },
  {
   "cell_type": "code",
   "execution_count": 19,
   "metadata": {},
   "outputs": [
    {
     "name": "stdout",
     "output_type": "stream",
     "text": [
      "Price of house given its size=500 and rooms=3, is 430446.50$ .\n"
     ]
    }
   ],
   "source": [
    "predict(500,3,theta)"
   ]
  },
  {
   "cell_type": "code",
   "execution_count": null,
   "metadata": {},
   "outputs": [],
   "source": []
  }
 ],
 "metadata": {
  "kernelspec": {
   "display_name": "Python 3",
   "language": "python",
   "name": "python3"
  },
  "language_info": {
   "codemirror_mode": {
    "name": "ipython",
    "version": 3
   },
   "file_extension": ".py",
   "mimetype": "text/x-python",
   "name": "python",
   "nbconvert_exporter": "python",
   "pygments_lexer": "ipython3",
   "version": "3.7.6"
  }
 },
 "nbformat": 4,
 "nbformat_minor": 4
}
